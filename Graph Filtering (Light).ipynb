{
 "cells": [
  {
   "cell_type": "markdown",
   "id": "565e8dab",
   "metadata": {},
   "source": [
    "\n",
    "1. Model name: **A Simple Linear Graph Filtering**\n",
    "2. Domain: Collaborative filtering; Recommender system\n",
    "2. Writer: Jin-Duk Park (https://jindeok.github.io/jdpark/)"
   ]
  },
  {
   "cell_type": "code",
   "execution_count": 5,
   "id": "239d2a73",
   "metadata": {},
   "outputs": [],
   "source": [
    "import torch\n",
    "import scipy.sparse as sp\n",
    "from utils_torch_GF import *\n",
    "import os"
   ]
  },
  {
   "cell_type": "code",
   "execution_count": 6,
   "metadata": {},
   "outputs": [
    {
     "name": "stdout",
     "output_type": "stream",
     "text": [
      "number of users: 5949\n",
      "number of items: 2810\n",
      "number of overall ratings: 403282\n"
     ]
    }
   ],
   "source": [
    "## Configuration and Dataloader\n",
    "\n",
    "# Set your device\n",
    "device = 'cuda:0' # your cuda device (e.g., 'cuda:0' or 'cpu')\n",
    "\n",
    "# Specify & load your dataset.\n",
    "current_directory = os.getcwd()\n",
    "dataset =\"ml-1m\" # \"ml-1m\", \"gowalla\", \"yelp\", \"amazon\"\n",
    "path_tr = f\"{current_directory}/dataset/{dataset}_train.npz\"\n",
    "path_ts = f\"{current_directory}/dataset/{dataset}_test.npz\"\n",
    "R_tr = csr2torch(sp.load_npz(path_tr)).to(device)\n",
    "R_ts = csr2torch(sp.load_npz(path_ts)).to(device)\n",
    "\n",
    "# Check statistics of the dataset\n",
    "n_users = R_tr.shape[0]\n",
    "n_items = R_tr.shape[1]\n",
    "n_inters = torch.nonzero(R_tr._values()).cpu().size(0) +torch.nonzero(R_ts[0]._values()).cpu().size(0)\n",
    "\n",
    "print(f\"number of users: {n_users}\")\n",
    "print(f\"number of items: {n_items}\")\n",
    "print(f\"number of overall ratings: {n_inters}\")"
   ]
  },
  {
   "cell_type": "code",
   "execution_count": 10,
   "metadata": {},
   "outputs": [
    {
     "name": "stderr",
     "output_type": "stream",
     "text": [
      "/tmp/ipykernel_421118/3502622133.py:7: UserWarning: To copy construct from a tensor, it is recommended to use sourceTensor.clone().detach() or sourceTensor.clone().detach().requires_grad_(True), rather than torch.tensor(sourceTensor).\n",
      "  P = torch.tensor(P, dtype = torch.float32, device = device)\n",
      "/tmp/ipykernel_421118/3502622133.py:8: UserWarning: To copy construct from a tensor, it is recommended to use sourceTensor.clone().detach() or sourceTensor.clone().detach().requires_grad_(True), rather than torch.tensor(sourceTensor).\n",
      "  R = torch.tensor(R, dtype = torch.float32, device = device)\n"
     ]
    }
   ],
   "source": [
    "## Inference\n",
    "\n",
    "# Graph processing\n",
    "mceg_norm = normalize_sparse_adjacency_matrix(R_tr.to_dense(), 0.5)\n",
    "R = R_tr.to_dense()\n",
    "P = mceg_norm.T @ mceg_norm\n",
    "P = torch.tensor(P, dtype = torch.float32, device = device)\n",
    "R = torch.tensor(R, dtype = torch.float32, device = device)\n",
    "\n",
    "# Linear GF\n",
    "results = R@P\n",
    "gt_mat = R_ts.to_dense()"
   ]
  },
  {
   "cell_type": "code",
   "execution_count": 8,
   "metadata": {},
   "outputs": [
    {
     "name": "stdout",
     "output_type": "stream",
     "text": [
      "Recall@10: 0.0827 \n",
      "\n",
      "NDCG@10: 0.0745 \n",
      "\n"
     ]
    }
   ],
   "source": [
    "## Evaluation\n",
    "\n",
    "# Evaluation only on the unseen items\n",
    "results = results + (-99999)*R_tr.to_dense() \n",
    "gt_mat = gt_mat.cpu().detach().numpy() # Ground truth matrix\n",
    "results = results.cpu().detach().numpy() # Prediction\n",
    "\n",
    "# You can specify 'k'\n",
    "print(f\"Recall@10: {recall_at_k(gt_mat, results, k=10):.4f} \\n\")\n",
    "print(f\"NDCG@10: {ndcg_at_k(gt_mat, results, k=10):.4f} \\n\")"
   ]
  },
  {
   "cell_type": "code",
   "execution_count": 9,
   "metadata": {},
   "outputs": [
    {
     "name": "stdout",
     "output_type": "stream",
     "text": [
      "Allocated GPU Memory:  8.125 MB\n"
     ]
    }
   ],
   "source": [
    "## Check GPU memory allocation \n",
    "print(\"Allocated GPU Memory: \", torch.cuda.memory_allocated() / (1024 * 1024), \"MB\")"
   ]
  },
  {
   "cell_type": "code",
   "execution_count": null,
   "metadata": {},
   "outputs": [],
   "source": []
  }
 ],
 "metadata": {
  "kernelspec": {
   "display_name": "base",
   "language": "python",
   "name": "python3"
  },
  "language_info": {
   "codemirror_mode": {
    "name": "ipython",
    "version": 3
   },
   "file_extension": ".py",
   "mimetype": "text/x-python",
   "name": "python",
   "nbconvert_exporter": "python",
   "pygments_lexer": "ipython3",
   "version": "3.9.18"
  },
  "vscode": {
   "interpreter": {
    "hash": "e5e7e908986eb504874c73244d8f81fe3f9967af36719548260cfac1cfc6df0d"
   }
  }
 },
 "nbformat": 4,
 "nbformat_minor": 5
}
